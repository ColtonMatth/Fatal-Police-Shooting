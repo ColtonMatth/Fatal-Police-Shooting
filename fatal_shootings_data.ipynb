{
 "cells": [
  {
   "cell_type": "code",
   "execution_count": 2,
   "metadata": {},
   "outputs": [],
   "source": [
    "import matplotlib.pyplot as plt"
   ]
  },
  {
   "cell_type": "markdown",
   "metadata": {},
   "source": [
    "# Fatal Police Shootings Data Project"
   ]
  },
  {
   "cell_type": "markdown",
   "metadata": {},
   "source": [
    "## Introduction"
   ]
  },
  {
   "cell_type": "markdown",
   "metadata": {},
   "source": [
    "In this Fatal Police Shootings Data Project, our professor assigned students to work on a project that focuses on the basic techniques of dictionary in Python. The topic of this project was a trend in the year 2020 that our professor was interested for us to explore the rise of police brutality and the resulting fatal shootings. Our professor provided us a CSV file of fatal shootings that contains: id, name, date, manner of death, armed, age, gender, race, city, state, sign of mental illness, threat level, flee, and body camera. This project belongs to MCS-177 Introduction to Computer Science I at Gustavus Adolphus College."
   ]
  },
  {
   "cell_type": "markdown",
   "metadata": {},
   "source": [
    "## Creating a Dictionary"
   ]
  },
  {
   "cell_type": "code",
   "execution_count": 3,
   "metadata": {},
   "outputs": [
    {
     "name": "stdout",
     "output_type": "stream",
     "text": [
      "{'Name': 'Philando Castile', 'Data': '2016-07-06', 'Armed': 'gun', 'Age': '32', 'Gender': 'M', 'Race': 'B', 'State': 'MN'}\n"
     ]
    }
   ],
   "source": [
    "data_file = open('fatal-police-shootings-data.csv', 'r')\n",
    "\n",
    "# Reading the lines of the CSV file\n",
    "lines = data_file.readlines()\n",
    "\n",
    "# Total length  of the dataset \n",
    "length = len(lines)\n",
    "\n",
    "# Initialize dictionary\n",
    "data_dict = {}\n",
    "\n",
    "# Creating a for loop to iterate over each line in the CSV file with specified category\n",
    "for row in range(1, length):    # Skip the first row that contains column names in the CSV file\n",
    "    line = lines[row]\n",
    "    cells = line.split(',') # Separate values by comma\n",
    "    \n",
    "    entry = {} # Create an empty dictionary\n",
    "    entry[\"Name\"] = cells[1]\n",
    "    entry[\"Data\"] = cells[2]\n",
    "    entry[\"Armed\"] = cells[4]\n",
    "    entry[\"Age\"] = cells[5]\n",
    "    entry[\"Gender\"] = cells[6]\n",
    "    entry[\"Race\"] = cells[7]\n",
    "    entry[\"State\"] = cells[9]\n",
    "    \n",
    "    entry_id = int(cells[0]) # Converting the id from string to integer\n",
    "    \n",
    "    data_dict[entry_id] = entry # Implement entry into data_dict for each entry_id\n",
    "\n",
    "print(data_dict[1694]) # An example of accessing information such as 1694 as an entry_id from data_dict\n"
   ]
  },
  {
   "cell_type": "markdown",
   "metadata": {},
   "source": [
    "In the code, open the CSV file 'fatal-police-shooting-data.csv' and read its contents. To start working with this data, we need to create a dictionary which we initialize it with an empty dictionary as 'data_dict'. To enter key and values into data_dict, we'll iterate the rows of the CSV files. Within the for loop, we need to create another dictionary because each row contains information that represent categories for each values, so we initialize keys for each values, which we will focus on 'Name', 'Data', 'Armed', 'Age', 'Gender', 'Race', and 'State'. After receiving all these pieces of information, we grab the id column of the CSV file into entry_id which require to convert into an integer. Now, we use data_dict to grab the entry_id so it can have the information of the specified id from the CSV file. In our example, we use a print statement to call data_dict[1694] to print out the specified id's information."
   ]
  },
  {
   "cell_type": "markdown",
   "metadata": {},
   "source": [
    "## Minnesota Fatal Police Shootings"
   ]
  },
  {
   "cell_type": "markdown",
   "metadata": {},
   "source": [
    "In our project, we want to look at the fatal police shootings in the state of Minnesota. We all ready created a dictionary that contains information from the CSV file. We write a code that prints the information that is only in the state of Minnesota."
   ]
  },
  {
   "cell_type": "code",
   "execution_count": 4,
   "metadata": {},
   "outputs": [
    {
     "name": "stdout",
     "output_type": "stream",
     "text": [
      "{'Name': 'Marcus Golden', 'Data': '2015-01-14', 'Armed': '', 'Age': '24', 'Gender': 'M', 'Race': 'B', 'State': 'MN'}\n",
      "{'Name': 'Quincy Reed Reindl', 'Data': '2015-01-15', 'Armed': 'gun', 'Age': '24', 'Gender': 'M', 'Race': 'W', 'State': 'MN'}\n",
      "{'Name': 'Raymond Kmetz', 'Data': '2015-01-26', 'Armed': 'gun', 'Age': '68', 'Gender': 'M', 'Race': 'W', 'State': 'MN'}\n",
      "{'Name': 'Justin Tolkinen', 'Data': '2015-03-16', 'Armed': 'gun', 'Age': '28', 'Gender': 'M', 'Race': 'W', 'State': 'MN'}\n",
      "{'Name': 'Sam Holmes', 'Data': '2015-05-08', 'Armed': '', 'Age': '31', 'Gender': 'M', 'Race': 'B', 'State': 'MN'}\n",
      "{'Name': 'Derek Wolfsteller', 'Data': '2015-07-23', 'Armed': 'unarmed', 'Age': '31', 'Gender': 'M', 'Race': 'W', 'State': 'MN'}\n",
      "{'Name': 'Adam Schneider', 'Data': '2015-08-22', 'Armed': 'gun', 'Age': '31', 'Gender': 'M', 'Race': 'W', 'State': 'MN'}\n",
      "{'Name': 'Philip Quinn', 'Data': '2015-09-24', 'Armed': 'screwdriver', 'Age': '30', 'Gender': 'M', 'Race': 'O', 'State': 'MN'}\n",
      "{'Name': 'Robert  Christen', 'Data': '2015-09-29', 'Armed': 'unarmed', 'Age': '37', 'Gender': 'M', 'Race': 'W', 'State': 'MN'}\n",
      "{'Name': 'Luverne Roy Christensen', 'Data': '2015-11-01', 'Armed': 'gun', 'Age': '49', 'Gender': 'M', 'Race': 'W', 'State': 'MN'}\n",
      "{'Name': 'Jamar Clark', 'Data': '2015-11-15', 'Armed': 'unarmed', 'Age': '24', 'Gender': 'M', 'Race': 'B', 'State': 'MN'}\n",
      "{'Name': 'Michael Kirvelay', 'Data': '2015-11-24', 'Armed': 'toy weapon', 'Age': '45', 'Gender': 'M', 'Race': 'W', 'State': 'MN'}\n",
      "{'Name': 'John Birkeland', 'Data': '2016-02-10', 'Armed': 'knife', 'Age': '52', 'Gender': 'M', 'Race': 'W', 'State': 'MN'}\n",
      "{'Name': 'Map Kong', 'Data': '2016-03-17', 'Armed': 'gun', 'Age': '38', 'Gender': 'M', 'Race': 'A', 'State': 'MN'}\n",
      "{'Name': 'Denise Fairchild', 'Data': '2016-03-29', 'Armed': 'gun', 'Age': '50', 'Gender': 'F', 'Race': 'W', 'State': 'MN'}\n",
      "{'Name': 'Raul Salvador Marquez Heraldes', 'Data': '2016-04-04', 'Armed': 'knife', 'Age': '50', 'Gender': 'M', 'Race': 'H', 'State': 'MN'}\n",
      "{'Name': 'Jaffort Smith', 'Data': '2016-05-09', 'Armed': 'gun', 'Age': '33', 'Gender': 'M', 'Race': 'B', 'State': 'MN'}\n",
      "{'Name': '\"Eugene \"\"Geno\"\" Francis Smith\"', 'Data': '2016-05-26', 'Armed': 'gun', 'Age': '29', 'Gender': 'M', 'Race': 'W', 'State': 'MN'}\n",
      "{'Name': 'Philando Castile', 'Data': '2016-07-06', 'Armed': 'gun', 'Age': '32', 'Gender': 'M', 'Race': 'B', 'State': 'MN'}\n",
      "{'Name': 'Adam Jo Klimek', 'Data': '2016-08-02', 'Armed': 'knife', 'Age': '31', 'Gender': 'M', 'Race': 'W', 'State': 'MN'}\n",
      "{'Name': 'Justin Kulhanek-Derks', 'Data': '2016-08-28', 'Armed': 'gun', 'Age': '37', 'Gender': 'M', 'Race': 'W', 'State': 'MN'}\n",
      "{'Name': 'Dahir Adan', 'Data': '2016-09-17', 'Armed': 'knife', 'Age': '22', 'Gender': 'M', 'Race': 'O', 'State': 'MN'}\n",
      "{'Name': 'Jamie Joseph Lewis', 'Data': '2016-09-26', 'Armed': 'gun', 'Age': '48', 'Gender': 'M', 'Race': 'W', 'State': 'MN'}\n",
      "{'Name': 'Kristofer Daniel Youngquist', 'Data': '2016-10-23', 'Armed': 'toy weapon', 'Age': '45', 'Gender': 'M', 'Race': 'W', 'State': 'MN'}\n",
      "{'Name': 'Jay Johannes Holmgren', 'Data': '2016-10-28', 'Armed': 'gun', 'Age': '37', 'Gender': 'M', 'Race': 'W', 'State': 'MN'}\n",
      "{'Name': 'Chase Anthony Tuseth', 'Data': '2016-12-31', 'Armed': 'unarmed', 'Age': '33', 'Gender': 'M', 'Race': 'W', 'State': 'MN'}\n",
      "{'Name': 'Ronnie Johnson', 'Data': '2017-01-11', 'Armed': 'air conditioner', 'Age': '41', 'Gender': 'M', 'Race': 'W', 'State': 'MN'}\n",
      "{'Name': 'Jamison Christopher Anderson', 'Data': '2017-01-12', 'Armed': 'gun', 'Age': '20', 'Gender': 'M', 'Race': 'N', 'State': 'MN'}\n",
      "{'Name': 'Cordale Quinn Handy', 'Data': '2017-03-15', 'Armed': 'gun', 'Age': '29', 'Gender': 'M', 'Race': 'B', 'State': 'MN'}\n",
      "{'Name': 'Darren Jahnke', 'Data': '2017-04-16', 'Armed': 'gun', 'Age': '47', 'Gender': 'M', 'Race': 'W', 'State': 'MN'}\n",
      "{'Name': 'Gregory Shawn Thrower', 'Data': '2017-07-10', 'Armed': 'gun', 'Age': '39', 'Gender': 'M', 'Race': 'W', 'State': 'MN'}\n",
      "{'Name': 'Justine Damond', 'Data': '2017-07-15', 'Armed': 'unarmed', 'Age': '40', 'Gender': 'F', 'Race': 'W', 'State': 'MN'}\n",
      "{'Name': 'Phumee Lee', 'Data': '2017-10-05', 'Armed': 'gun', 'Age': '28', 'Gender': 'M', 'Race': 'A', 'State': 'MN'}\n",
      "{'Name': 'Ronald L. Klitzka', 'Data': '2017-11-10', 'Armed': 'gun', 'Age': '62', 'Gender': 'M', 'Race': 'W', 'State': 'MN'}\n",
      "{'Name': 'Jeffrey John Golnick', 'Data': '2017-12-22', 'Armed': 'gun', 'Age': '40', 'Gender': 'M', 'Race': 'W', 'State': 'MN'}\n",
      "{'Name': 'Nicholas Daniel Moore', 'Data': '2018-01-20', 'Armed': 'knife', 'Age': '23', 'Gender': 'M', 'Race': 'W', 'State': 'MN'}\n",
      "{'Name': 'Gilbert Salas', 'Data': '2018-01-31', 'Armed': 'knife', 'Age': '20', 'Gender': 'M', 'Race': 'H', 'State': 'MN'}\n",
      "{'Name': 'Benjamin Evans', 'Data': '2018-04-12', 'Armed': 'gun', 'Age': '23', 'Gender': 'M', 'Race': 'W', 'State': 'MN'}\n",
      "{'Name': 'Thurman Blevins', 'Data': '2018-06-23', 'Armed': 'gun', 'Age': '30', 'Gender': 'M', 'Race': 'B', 'State': 'MN'}\n",
      "{'Name': 'Archer Amorosi', 'Data': '2018-07-13', 'Armed': 'knife', 'Age': '16', 'Gender': 'M', 'Race': 'W', 'State': 'MN'}\n",
      "{'Name': '\"William \"\"Billy\"\" James Hughes\"', 'Data': '2018-08-05', 'Armed': 'gun', 'Age': '43', 'Gender': 'M', 'Race': 'N', 'State': 'MN'}\n",
      "{'Name': 'Keagan Johnson', 'Data': '2018-10-01', 'Armed': 'knife', 'Age': '23', 'Gender': 'M', 'Race': 'W', 'State': 'MN'}\n",
      "{'Name': 'Travis Jordan', 'Data': '2018-11-09', 'Armed': 'unknown weapon', 'Age': '36', 'Gender': 'M', 'Race': 'B', 'State': 'MN'}\n",
      "{'Name': 'James Hanchett', 'Data': '2018-11-09', 'Armed': 'gun', 'Age': '61', 'Gender': 'M', 'Race': 'W', 'State': 'MN'}\n",
      "{'Name': 'Keaton James Larson', 'Data': '2018-11-21', 'Armed': 'knife', 'Age': '22', 'Gender': 'M', 'Race': 'W', 'State': 'MN'}\n",
      "{'Name': 'J Scot Alan Widmark', 'Data': '2018-11-27', 'Armed': 'knife', 'Age': '41', 'Gender': 'M', 'Race': 'W', 'State': 'MN'}\n",
      "{'Name': 'Vernon May', 'Data': '2018-11-29', 'Armed': 'gun', 'Age': '32', 'Gender': 'M', 'Race': 'N', 'State': 'MN'}\n",
      "{'Name': 'Joseph Roberts', 'Data': '2019-01-03', 'Armed': 'knife', 'Age': '27', 'Gender': 'M', 'Race': 'W', 'State': 'MN'}\n",
      "{'Name': 'Matthew Neil Tuhkanen', 'Data': '2019-01-19', 'Armed': 'unarmed', 'Age': '35', 'Gender': 'M', 'Race': 'W', 'State': 'MN'}\n",
      "{'Name': 'Tyler Schmidtbauer', 'Data': '2019-02-26', 'Armed': 'gun', 'Age': '27', 'Gender': 'M', 'Race': 'W', 'State': 'MN'}\n",
      "{'Name': 'John Duane Fairbanks', 'Data': '2019-04-18', 'Armed': 'gun', 'Age': '40', 'Gender': 'M', 'Race': 'N', 'State': 'MN'}\n",
      "{'Name': 'Timothy Russell Majchrzak', 'Data': '2019-05-04', 'Armed': 'gun', 'Age': '37', 'Gender': 'M', 'Race': 'W', 'State': 'MN'}\n",
      "{'Name': 'Isak Abdirahman Aden', 'Data': '2019-07-02', 'Armed': 'gun', 'Age': '23', 'Gender': 'M', 'Race': 'O', 'State': 'MN'}\n",
      "{'Name': 'Mario Benjamin', 'Data': '2019-08-02', 'Armed': 'gun', 'Age': '34', 'Gender': 'M', 'Race': '', 'State': 'MN'}\n",
      "{'Name': 'Kobe Heisler', 'Data': '2019-08-31', 'Armed': 'hammer', 'Age': '23', 'Gender': 'M', 'Race': '', 'State': 'MN'}\n",
      "{'Name': 'Brian Quinones', 'Data': '2019-09-07', 'Armed': 'knife', 'Age': '30', 'Gender': 'M', 'Race': 'H', 'State': 'MN'}\n",
      "{'Name': 'Ronald Davis', 'Data': '2019-09-15', 'Armed': 'knife', 'Age': '31', 'Gender': 'M', 'Race': 'B', 'State': 'MN'}\n",
      "{'Name': 'Chiasher Fong Vue', 'Data': '2019-12-15', 'Armed': 'gun', 'Age': '52', 'Gender': 'M', 'Race': 'A', 'State': 'MN'}\n",
      "{'Name': 'Kent Richard Kruger', 'Data': '2020-02-27', 'Armed': 'gun', 'Age': '36', 'Gender': 'M', 'Race': 'W', 'State': 'MN'}\n",
      "{'Name': 'Keith P. Haux', 'Data': '2020-03-08', 'Armed': 'gun', 'Age': '57', 'Gender': 'M', 'Race': 'W', 'State': 'MN'}\n",
      "{'Name': 'Austin Dean Heights', 'Data': '2020-04-18', 'Armed': 'gun', 'Age': '24', 'Gender': 'M', 'Race': 'W', 'State': 'MN'}\n"
     ]
    }
   ],
   "source": [
    "for row in data_dict:\n",
    "    mn_data = data_dict[row]\n",
    "    if (mn_data[\"State\"] == 'MN'):\n",
    "        print(mn_data)"
   ]
  },
  {
   "cell_type": "markdown",
   "metadata": {},
   "source": [
    "The code checks through the data_dict dictionary to find the 'State' to contain a string 'MN' and prints out a list of information that does contain only in the state of Minnesota.  "
   ]
  },
  {
   "cell_type": "markdown",
   "metadata": {},
   "source": [
    "## Races in Fatal Police Shooting"
   ]
  },
  {
   "cell_type": "markdown",
   "metadata": {},
   "source": [
    "After we got a list of fatal police shooting history, we want to know if there is any correlation of race to fatal police shootings. Since our data has abbreviation of different races such as 'W' as white, 'B' as black, 'A' as asian, 'H' as hispanic, and 'O' as other, so we will go through the list of fatal police shootings to count each race. "
   ]
  },
  {
   "cell_type": "code",
   "execution_count": 5,
   "metadata": {},
   "outputs": [
    {
     "name": "stdout",
     "output_type": "stream",
     "text": [
      "{'White': 2385, 'Black': 1254, 'Asian': 91, 'Hispanic': 878, 'Other': 730}\n"
     ]
    }
   ],
   "source": [
    "white_cnt = 0\n",
    "black_cnt = 0\n",
    "asian_cnt = 0\n",
    "hispanic_cnt = 0\n",
    "other_cnt = 0\n",
    "\n",
    "for row in data_dict:\n",
    "    race_dict = data_dict[row]\n",
    "    if (race_dict['Race'] == 'W'):\n",
    "        white_cnt += 1\n",
    "    elif (race_dict['Race'] == 'B'):\n",
    "        black_cnt += 1\n",
    "    elif (race_dict['Race'] == 'A'):\n",
    "        asian_cnt += 1\n",
    "    elif (race_dict['Race'] == 'H'):\n",
    "        hispanic_cnt += 1\n",
    "    else:\n",
    "        other_cnt += 1\n",
    "    \n",
    "    race_cnt = {}\n",
    "    race_cnt['White'] = white_cnt\n",
    "    race_cnt['Black'] = black_cnt\n",
    "    race_cnt['Asian'] = asian_cnt\n",
    "    race_cnt['Hispanic'] = hispanic_cnt\n",
    "    race_cnt['Other'] = other_cnt\n",
    "\n",
    "print(race_cnt)"
   ]
  },
  {
   "cell_type": "markdown",
   "metadata": {},
   "source": [
    "### Histogram of Race Counts in Fatal Police Shooting"
   ]
  },
  {
   "cell_type": "code",
   "execution_count": 6,
   "metadata": {},
   "outputs": [
    {
     "data": {
      "image/png": "[encoded data removed]",
      "text/plain": [
       "<Figure size 640x480 with 1 Axes>"
      ]
     },
     "metadata": {},
     "output_type": "display_data"
    }
   ],
   "source": [
    "# Extract keys and values from the dictionary of race_cnt\n",
    "labels = list(race_cnt.keys())\n",
    "values = list(race_cnt.values())\n",
    "\n",
    "# plotting the histogram\n",
    "plt.bar(labels, values)\n",
    "\n",
    "# Adding labels and titles\n",
    "plt.xlabel('Races')\n",
    "plt.ylabel('Count')\n",
    "plt.title('Race Counts in Fatal Police Shooting, 2015-2020')\n",
    "\n",
    "# Display histogram\n",
    "plt.show()\n",
    "\n"
   ]
  },
  {
   "cell_type": "markdown",
   "metadata": {},
   "source": [
    "This code shows a histogram that shows the total of fatal police shooting history for each race from 2015-2020. We want to compare the total number of each races that are involved in fatal shooting such as the Whites is higher than the Blacks because many people in reality think Blacks are more involved in fatal shootings than the Whites.  "
   ]
  },
  {
   "cell_type": "markdown",
   "metadata": {},
   "source": [
    "### Unarmed in Fatal Police Shootings"
   ]
  },
  {
   "cell_type": "markdown",
   "metadata": {},
   "source": [
    "After looking at races in the fatal police shooting data, we want to look at the total of 'unarmed' victims. Yet, there is a problem with the data that contains missing pieces of information in the history of fatal shooting is that within the 'armed' column, there is some blank information for certain victims and 'undetermine' category. For the 'armed' category, there are guns, toy weapon, knife, shovel, and other objects that is considered as armed. For now, we will only focus on 'unarmed' category since we cannot make up for missing pieces of information of our data."
   ]
  },
  {
   "cell_type": "code",
   "execution_count": 25,
   "metadata": {},
   "outputs": [
    {
     "name": "stdout",
     "output_type": "stream",
     "text": [
      "Total unarmed victims:  318\n",
      "{'White': 134, 'Black': 107, 'Asian': 5, 'Hispanic': 56, 'Other': 16}\n"
     ]
    }
   ],
   "source": [
    "\n",
    "unarmed_cnt = 0\n",
    "\n",
    "unarmed_white_cnt = 0\n",
    "unarmed_black_cnt = 0\n",
    "unarmed_asian_cnt = 0\n",
    "unarmed_hispanic_cnt = 0\n",
    "unarmed_other_cnt = 0\n",
    "\n",
    "\n",
    "for row in data_dict:\n",
    "    unarmed_dict = data_dict[row]\n",
    "    if (unarmed_dict[\"Armed\"] == 'unarmed'):\n",
    "        unarmed_cnt += 1\n",
    "        \n",
    "        if (unarmed_dict['Race'] == 'W'):\n",
    "            unarmed_white_cnt += 1\n",
    "        elif (unarmed_dict['Race'] == 'B'):\n",
    "            unarmed_black_cnt += 1\n",
    "        elif (unarmed_dict['Race'] == 'A'):\n",
    "            unarmed_asian_cnt += 1\n",
    "        elif (unarmed_dict['Race'] == 'H'):\n",
    "            unarmed_hispanic_cnt += 1\n",
    "        else:\n",
    "            unarmed_other_cnt += 1\n",
    "            \n",
    "        unarmed_race_cnt = {}\n",
    "        unarmed_race_cnt['White'] = unarmed_white_cnt\n",
    "        unarmed_race_cnt['Black'] = unarmed_black_cnt\n",
    "        unarmed_race_cnt['Asian'] = unarmed_asian_cnt\n",
    "        unarmed_race_cnt['Hispanic'] = unarmed_hispanic_cnt\n",
    "        unarmed_race_cnt['Other'] = unarmed_other_cnt\n",
    "print(\"Total unarmed victims: \", unarmed_cnt)\n",
    "\n",
    "print(unarmed_race_cnt)"
   ]
  },
  {
   "cell_type": "markdown",
   "metadata": {},
   "source": [
    "### Histogram of Race Count that are Unarmed in Fatal Police Shooting"
   ]
  },
  {
   "cell_type": "code",
   "execution_count": 28,
   "metadata": {},
   "outputs": [
    {
     "data": {
      "image/png": "[encoded data removed]",
      "text/plain": [
       "<Figure size 640x480 with 1 Axes>"
      ]
     },
     "metadata": {},
     "output_type": "display_data"
    }
   ],
   "source": [
    "labels = list(unarmed_race_cnt.keys())\n",
    "values = list(unarmed_race_cnt.values())\n",
    "\n",
    "plt.bar(labels, values)\n",
    "\n",
    "plt.xlabel('Races')\n",
    "plt.ylabel('Counts')\n",
    "plt.title('Unarmed Races in Fatal Police Shootings, 2015-2020')\n",
    "\n",
    "plt.show()"
   ]
  },
  {
   "cell_type": "markdown",
   "metadata": {},
   "source": [
    "As we can see, there are still many victims that were unarmed and we still see that Whites is still higher than Blacks. "
   ]
  }
 ],
 "metadata": {
  "kernelspec": {
   "display_name": "base",
   "language": "python",
   "name": "python3"
  },
  "language_info": {
   "codemirror_mode": {
    "name": "ipython",
    "version": 3
   },
   "file_extension": ".py",
   "mimetype": "text/x-python",
   "name": "python",
   "nbconvert_exporter": "python",
   "pygments_lexer": "ipython3",
   "version": "3.9.13"
  }
 },
 "nbformat": 4,
 "nbformat_minor": 2
}
